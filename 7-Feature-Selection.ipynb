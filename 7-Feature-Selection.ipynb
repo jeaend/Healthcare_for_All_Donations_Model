{
 "cells": [
  {
   "cell_type": "code",
   "execution_count": null,
   "metadata": {},
   "outputs": [],
   "source": [
    "import pandas as pd\n",
    "from sklearn.preprocessing import StandardScaler, OneHotEncoder\n",
    "from sklearn.compose import ColumnTransformer\n",
    "from sklearn.feature_selection import RFE\n",
    "from sklearn.linear_model import LinearRegression, LogisticRegression\n",
    "from sklearn.ensemble import RandomForestClassifier\n",
    "from sklearn.feature_selection import VarianceThreshold"
   ]
  },
  {
   "cell_type": "code",
   "execution_count": null,
   "metadata": {},
   "outputs": [],
   "source": [
    "X_train = pd.read_csv('./cache/4-X_train-upsampled.csv', index_col=False)\n",
    "y_train = pd.read_csv('./cache/4-y_train-upsampled.csv', index_col=False)\n",
    "X_test = pd.read_csv('./cache/4-X_test-upsampled.csv', index_col=False)\n",
    "y_test = pd.read_csv('./cache/4-y_test-upsampled.csv', index_col=False)"
   ]
  },
  {
   "cell_type": "code",
   "execution_count": null,
   "metadata": {},
   "outputs": [],
   "source": [
    "from sklearn.preprocessing import StandardScaler\n",
    "\n",
    "# Get numerical and categorical columns\n",
    "numerical_columns = X_train.select_dtypes(include=['number']).columns\n",
    "categorical_columns = X_train.select_dtypes(include=['object']).columns\n",
    "\n",
    "# Initialize the StandardScaler for numerical columns\n",
    "scaler = StandardScaler()\n",
    "\n",
    "# Define the column transformer for numerical and categorical columns\n",
    "preprocessor = ColumnTransformer(\n",
    "    transformers=[\n",
    "        ('num', scaler, numerical_columns),\n",
    "        ('cat', OneHotEncoder(drop='first', handle_unknown='ignore'), categorical_columns)\n",
    "    ],\n",
    "    remainder='passthrough'\n",
    ")\n",
    "\n",
    "# Fit and transform the preprocessor on training data and transform test data\n",
    "X_train_preprocessed = preprocessor.fit_transform(X_train)\n",
    "X_test_preprocessed = preprocessor.transform(X_test)\n",
    "\n",
    "# Get the scaled numerical features from the preprocessed data\n",
    "# We'll use the original numerical columns to extract their indices\n",
    "numerical_indices = [X_train.columns.get_loc(col) for col in numerical_columns]\n",
    "X_train_numerical_scaled = X_train_preprocessed[:, numerical_indices]\n",
    "X_test_numerical_scaled = X_test_preprocessed[:, numerical_indices]\n"
   ]
  },
  {
   "cell_type": "code",
   "execution_count": 20,
   "metadata": {},
   "outputs": [
    {
     "name": "stderr",
     "output_type": "stream",
     "text": [
      "/opt/anaconda3/lib/python3.11/site-packages/sklearn/utils/validation.py:1143: DataConversionWarning: A column-vector y was passed when a 1d array was expected. Please change the shape of y to (n_samples, ), for example using ravel().\n",
      "  y = column_or_1d(y, warn=True)\n"
     ]
    },
    {
     "name": "stdout",
     "output_type": "stream",
     "text": [
      "Selected columns:\n",
      "Index(['ODATEDW', 'ETH1', 'ETH2', 'AGE901', 'AGE902', 'AGE904', 'AGE905',\n",
      "       'HHN2', 'MARR1', 'HV1', 'HV2', 'HV3', 'HV4', 'HHD7', 'HHD9', 'ETHC3',\n",
      "       'ETHC4', 'ETHC5', 'ETHC6', 'HVP1', 'HVP2', 'HVP3', 'HVP4', 'HVP5',\n",
      "       'HVP6', 'RP1', 'RP2', 'RP3', 'RP4', 'DMA', 'IC1', 'IC2', 'IC3', 'IC4',\n",
      "       'IC5', 'IC6', 'IC10', 'IC11', 'IC13', 'IC15', 'IC19', 'IC20', 'IC22',\n",
      "       'HHAS2', 'HHAS3', 'HHAS4', 'TPE3', 'TPE4', 'LFC10', 'OCC1', 'OCC2',\n",
      "       'OCC4', 'OCC11', 'OCC13', 'OEDC4', 'EC1', 'EC2', 'EC3', 'EC6', 'EC7',\n",
      "       'EC8', 'VC4', 'POBC2', 'VOC1', 'VOC2', 'HC21', 'MHUC1', 'CARDPROM',\n",
      "       'NUMPROM', 'CARDPM12', 'NUMPRM12', 'RAMNTALL', 'NGIFTALL', 'CARDGIFT',\n",
      "       'MINRAMNT', 'MAXRAMNT', 'LASTGIFT', 'LASTDATE', 'FISTDATE', 'AVGGIFT'],\n",
      "      dtype='object')\n"
     ]
    }
   ],
   "source": [
    "from sklearn.feature_selection import SelectKBest, f_regression\n",
    "\n",
    "# Define the number of features to select\n",
    "k_best_features = 80\n",
    "\n",
    "# Initialize SelectKBest with the f_regression scoring function (suitable for regression tasks)\n",
    "selector = SelectKBest(score_func=f_regression, k=k_best_features)\n",
    "\n",
    "# Fit SelectKBest on the numerical scaled data and transform it\n",
    "X_train_selected = selector.fit_transform(X_train_numerical_scaled, y_train)\n",
    "\n",
    "# Get the indices of the selected features\n",
    "selected_indices = selector.get_support(indices=True)\n",
    "\n",
    "# Get the names of the selected columns\n",
    "selected_columns = numerical_columns[selected_indices]\n",
    "\n",
    "# Print the selected column names\n",
    "print(\"Selected columns:\")\n",
    "print(selected_columns)"
   ]
  },
  {
   "cell_type": "markdown",
   "metadata": {},
   "source": []
  }
 ],
 "metadata": {
  "kernelspec": {
   "display_name": "base",
   "language": "python",
   "name": "python3"
  },
  "language_info": {
   "codemirror_mode": {
    "name": "ipython",
    "version": 3
   },
   "file_extension": ".py",
   "mimetype": "text/x-python",
   "name": "python",
   "nbconvert_exporter": "python",
   "pygments_lexer": "ipython3",
   "version": "3.11.7"
  }
 },
 "nbformat": 4,
 "nbformat_minor": 2
}
