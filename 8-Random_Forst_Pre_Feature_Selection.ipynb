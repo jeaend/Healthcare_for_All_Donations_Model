{
 "cells": [
  {
   "cell_type": "markdown",
   "metadata": {},
   "source": [
    "### Objective  \n",
    "\n",
    "**Using Random Forest before feature selection**"
   ]
  },
  {
   "cell_type": "code",
   "execution_count": 8,
   "metadata": {},
   "outputs": [],
   "source": [
    "import pandas as pd\n",
    "import numpy as np\n",
    "from sklearn.preprocessing import OrdinalEncoder, MinMaxScaler\n",
    "from sklearn.feature_selection import VarianceThreshold \n",
    "\n",
    "pd.set_option('display.max_columns', None)"
   ]
  },
  {
   "cell_type": "markdown",
   "metadata": {},
   "source": [
    "> retrieve data"
   ]
  },
  {
   "cell_type": "code",
   "execution_count": 2,
   "metadata": {},
   "outputs": [],
   "source": [
    "X_train = pd.read_csv('cache/4-X_train-upsampled.csv')\n",
    "y_train = pd.read_csv('cache/4-y_train-upsampled.csv')\n",
    "X_test = pd.read_csv('cache/4-X_test-upsampled.csv')\n",
    "y_test = pd.read_csv('cache/4-y_test-upsampled.csv')"
   ]
  },
  {
   "cell_type": "code",
   "execution_count": 12,
   "metadata": {},
   "outputs": [],
   "source": [
    "\n",
    "X_train_num = X_train.select_dtypes(include = np.number)\n",
    "X_test_num = X_test.select_dtypes(include = np.number)\n",
    "X_train_cat = X_train.select_dtypes(include = object)\n",
    "X_test_cat = X_test.select_dtypes(include = object)\n",
    "\n",
    "#SCALE\n",
    "# Initialize MinMaxScaler\n",
    "scaler = MinMaxScaler()\n",
    "\n",
    "# Fit and transform the scaler on training numerical data\n",
    "X_train_scaled_num = scaler.fit_transform(X_train_num)\n",
    "\n",
    "# Transform the test numerical data using the same scaler\n",
    "X_test_scaled_num = scaler.transform(X_test_num)\n",
    "\n",
    "# Create DataFrames for scaled numerical data\n",
    "X_train_scaled_num_df = pd.DataFrame(X_train_scaled_num, columns=X_train_num.columns)\n",
    "X_test_scaled_num_df = pd.DataFrame(X_test_scaled_num, columns=X_test_num.columns)\n",
    "\n",
    "# ENCODE\n",
    "encoder = OrdinalEncoder(handle_unknown='use_encoded_value', unknown_value=-1)\n",
    "encoder.fit(X_train_cat)\n",
    "\n",
    "# Transform the data using the fitted encoder\n",
    "X_train_cat_encoded = encoder.transform(X_train_cat)\n",
    "X_train_cat_encoded_df = pd.DataFrame(X_train_cat_encoded, columns=X_train_cat.columns)\n",
    "\n",
    "X_test_cat_encoded = encoder.transform(X_test_cat)\n",
    "X_test_cat_encoded_df = pd.DataFrame(X_test_cat_encoded, columns=X_test_cat.columns)\n",
    "\n",
    "# Concatenate the scaled numerical data with the encoded categorical data\n",
    "X_train = pd.concat([X_train_scaled_num_df, X_train_cat_encoded_df], axis=1)\n",
    "X_test = pd.concat([X_test_scaled_num_df, X_test_cat_encoded_df], axis=1)"
   ]
  },
  {
   "cell_type": "code",
   "execution_count": 14,
   "metadata": {},
   "outputs": [
    {
     "name": "stderr",
     "output_type": "stream",
     "text": [
      "/var/folders/pr/f4jl4tln3yn9fd_1yjrwwkp40000gn/T/ipykernel_26433/3121453162.py:9: DataConversionWarning: A column-vector y was passed when a 1d array was expected. Please change the shape of y to (n_samples,), for example using ravel().\n",
      "  clf.fit(X_train, y_train)\n"
     ]
    },
    {
     "name": "stdout",
     "output_type": "stream",
     "text": [
      "0.6214506399882301\n",
      "0.6204251037605333\n"
     ]
    },
    {
     "data": {
      "text/plain": [
       "TARGET_B\n",
       "0           22599\n",
       "1            1254\n",
       "Name: count, dtype: int64"
      ]
     },
     "metadata": {},
     "output_type": "display_data"
    },
    {
     "data": {
      "text/plain": [
       "<sklearn.metrics._plot.confusion_matrix.ConfusionMatrixDisplay at 0x15f5380d0>"
      ]
     },
     "execution_count": 14,
     "metadata": {},
     "output_type": "execute_result"
    },
    {
     "data": {
      "image/png": "[encoded data removed]",
      "text/plain": [
       "<Figure size 640x480 with 2 Axes>"
      ]
     },
     "metadata": {},
     "output_type": "display_data"
    }
   ],
   "source": [
    "from sklearn.ensemble import RandomForestClassifier\n",
    "from sklearn.metrics import confusion_matrix\n",
    "\n",
    "clf = RandomForestClassifier(max_depth=5, # max number of questions to ask\n",
    "                             min_samples_split=20, # amount of rows still considered at every question\n",
    "                             min_samples_leaf =20, # ultimate answer based on at least this many rows\n",
    "                             max_samples=0.8, # fraction of X-train to use in each tree\n",
    "                             random_state=42)\n",
    "clf.fit(X_train, y_train)\n",
    "print(clf.score(X_train, y_train))\n",
    "print(clf.score(X_test, y_test))\n",
    "\n",
    "y_pred = clf.predict(X_test)\n",
    "display(y_test.value_counts())\n",
    "\n",
    "from sklearn.metrics import confusion_matrix, ConfusionMatrixDisplay\n",
    "cm = confusion_matrix(y_test, y_pred)\n",
    "cm_display = ConfusionMatrixDisplay(confusion_matrix=cm, display_labels=clf.classes_)\n",
    "cm_display.plot()"
   ]
  },
  {
   "cell_type": "code",
   "execution_count": null,
   "metadata": {},
   "outputs": [],
   "source": []
  },
  {
   "cell_type": "markdown",
   "metadata": {},
   "source": [
    "## select features based on variance"
   ]
  },
  {
   "cell_type": "markdown",
   "metadata": {},
   "source": [
    "> scale using min-max-scaler! "
   ]
  },
  {
   "cell_type": "code",
   "execution_count": 22,
   "metadata": {},
   "outputs": [],
   "source": [
    "var_threshold = 0.01\n",
    "sel = VarianceThreshold(threshold=var_threshold)\n",
    "\n",
    "# Fit the VarianceThreshold selector only on the training data\n",
    "sel.fit(X_train)\n",
    "\n",
    "# Get the indices of the selected features\n",
    "selected_indices_train = sel.get_support(indices=True)\n",
    "\n",
    "# Get the selected column names for training data\n",
    "selected_columns_train = X_train.columns[selected_indices_train]\n",
    "\n",
    "# Transform both the training and test data using the same selector\n",
    "X_var_train = pd.DataFrame(sel.transform(X_train), columns=selected_columns_train)\n",
    "X_var_test = pd.DataFrame(sel.transform(X_test), columns=selected_columns_train)  # Use the same selected columns as training data"
   ]
  },
  {
   "cell_type": "code",
   "execution_count": 29,
   "metadata": {},
   "outputs": [
    {
     "data": {
      "text/plain": [
       "['ODATEDW',\n",
       " 'AGE',\n",
       " 'NUMCHLD',\n",
       " 'MBBOOKS',\n",
       " 'PUBHLTH',\n",
       " 'MALEVET',\n",
       " 'VIETVETS',\n",
       " 'WWIIVETS',\n",
       " 'WEALTH2',\n",
       " 'POP90C1',\n",
       " 'POP90C2',\n",
       " 'POP90C3',\n",
       " 'ETH1',\n",
       " 'ETH2',\n",
       " 'ETH5',\n",
       " 'ETH13',\n",
       " 'HHAGE1',\n",
       " 'HHAGE3',\n",
       " 'HHN1',\n",
       " 'HHN3',\n",
       " 'HHN4',\n",
       " 'MARR1',\n",
       " 'DW1',\n",
       " 'DW2',\n",
       " 'DW4',\n",
       " 'DW5',\n",
       " 'DW6',\n",
       " 'HV1',\n",
       " 'HV2',\n",
       " 'HV3',\n",
       " 'HV4',\n",
       " 'HU1',\n",
       " 'HU2',\n",
       " 'HU3',\n",
       " 'HU4',\n",
       " 'HU5',\n",
       " 'HHD1',\n",
       " 'HHD2',\n",
       " 'HHD3',\n",
       " 'HHD4',\n",
       " 'HHD5',\n",
       " 'HHD6',\n",
       " 'ETHC2',\n",
       " 'ETHC3',\n",
       " 'HVP1',\n",
       " 'HVP2',\n",
       " 'HVP3',\n",
       " 'HVP4',\n",
       " 'HVP5',\n",
       " 'HVP6',\n",
       " 'HUR2',\n",
       " 'RHP1',\n",
       " 'RHP2',\n",
       " 'HUPA1',\n",
       " 'HUPA2',\n",
       " 'HUPA3',\n",
       " 'HUPA6',\n",
       " 'RP1',\n",
       " 'RP2',\n",
       " 'RP3',\n",
       " 'RP4',\n",
       " 'DMA',\n",
       " 'IC1',\n",
       " 'IC2',\n",
       " 'IC3',\n",
       " 'IC4',\n",
       " 'IC6',\n",
       " 'IC15',\n",
       " 'IC19',\n",
       " 'HHAS1',\n",
       " 'HHAS3',\n",
       " 'MC1',\n",
       " 'MC2',\n",
       " 'MC3',\n",
       " 'TPE1',\n",
       " 'PEC2',\n",
       " 'TPE13',\n",
       " 'LFC1',\n",
       " 'LFC2',\n",
       " 'LFC3',\n",
       " 'LFC4',\n",
       " 'LFC5',\n",
       " 'LFC6',\n",
       " 'LFC7',\n",
       " 'LFC8',\n",
       " 'LFC9',\n",
       " 'EIC4',\n",
       " 'OEDC5',\n",
       " 'EC1',\n",
       " 'EC4',\n",
       " 'AFC5',\n",
       " 'VC1',\n",
       " 'VC3',\n",
       " 'VC4',\n",
       " 'POBC1',\n",
       " 'POBC2',\n",
       " 'LSC1',\n",
       " 'LSC2',\n",
       " 'VOC1',\n",
       " 'VOC2',\n",
       " 'VOC3',\n",
       " 'HC1',\n",
       " 'HC2',\n",
       " 'HC4',\n",
       " 'HC5',\n",
       " 'HC6',\n",
       " 'HC7',\n",
       " 'HC8',\n",
       " 'HC11',\n",
       " 'HC12',\n",
       " 'HC13',\n",
       " 'HC16',\n",
       " 'HC17',\n",
       " 'HC18',\n",
       " 'HC19',\n",
       " 'MHUC1',\n",
       " 'MHUC2',\n",
       " 'CARDPROM',\n",
       " 'NUMPROM',\n",
       " 'CARDGIFT',\n",
       " 'LASTDATE',\n",
       " 'CONTROLN',\n",
       " 'DOMAIN_B',\n",
       " 'DOB',\n",
       " 'INCOME',\n",
       " 'WEALTH1',\n",
       " 'HPHONE_D',\n",
       " 'RFA_2F',\n",
       " 'CLUSTER2',\n",
       " 'STATE',\n",
       " 'MAILCODE',\n",
       " 'CLUSTER',\n",
       " 'HOMEOWNR',\n",
       " 'GENDER',\n",
       " 'DATASRCE',\n",
       " 'RFA_2',\n",
       " 'RFA_3',\n",
       " 'RFA_4',\n",
       " 'RFA_5',\n",
       " 'RFA_6',\n",
       " 'RFA_7',\n",
       " 'RFA_8',\n",
       " 'RFA_9',\n",
       " 'RFA_10',\n",
       " 'RFA_11',\n",
       " 'RFA_12',\n",
       " 'RFA_13',\n",
       " 'RFA_14',\n",
       " 'RFA_16',\n",
       " 'RFA_17',\n",
       " 'RFA_18',\n",
       " 'RFA_19',\n",
       " 'RFA_21',\n",
       " 'RFA_22',\n",
       " 'RFA_24',\n",
       " 'RFA_2A',\n",
       " 'GEOCODE2',\n",
       " 'DOMAIN_A']"
      ]
     },
     "execution_count": 29,
     "metadata": {},
     "output_type": "execute_result"
    }
   ],
   "source": [
    "selected_columns_train.to_list()"
   ]
  },
  {
   "cell_type": "code",
   "execution_count": 23,
   "metadata": {},
   "outputs": [
    {
     "name": "stderr",
     "output_type": "stream",
     "text": [
      "/var/folders/pr/f4jl4tln3yn9fd_1yjrwwkp40000gn/T/ipykernel_26433/2187453677.py:6: DataConversionWarning: A column-vector y was passed when a 1d array was expected. Please change the shape of y to (n_samples,), for example using ravel().\n",
      "  clf.fit(X_var_train, y_train)\n"
     ]
    },
    {
     "name": "stdout",
     "output_type": "stream",
     "text": [
      "0.6198175665734883\n",
      "0.6271328554060286\n"
     ]
    },
    {
     "data": {
      "text/plain": [
       "TARGET_B\n",
       "0           22599\n",
       "1            1254\n",
       "Name: count, dtype: int64"
      ]
     },
     "metadata": {},
     "output_type": "display_data"
    },
    {
     "data": {
      "text/plain": [
       "<sklearn.metrics._plot.confusion_matrix.ConfusionMatrixDisplay at 0x14efaec10>"
      ]
     },
     "execution_count": 23,
     "metadata": {},
     "output_type": "execute_result"
    },
    {
     "data": {
      "image/png": "[encoded data removed]",
      "text/plain": [
       "<Figure size 640x480 with 2 Axes>"
      ]
     },
     "metadata": {},
     "output_type": "display_data"
    }
   ],
   "source": [
    "clf = RandomForestClassifier(max_depth=5, # max number of questions to ask\n",
    "                             min_samples_split=20, # amount of rows still considered at every question\n",
    "                             min_samples_leaf =20, # ultimate answer based on at least this many rows\n",
    "                             max_samples=0.8, # fraction of X-train to use in each tree\n",
    "                             random_state=42)\n",
    "clf.fit(X_var_train, y_train)\n",
    "print(clf.score(X_var_train, y_train))\n",
    "print(clf.score(X_var_test, y_test))\n",
    "\n",
    "y_pred = clf.predict(X_var_test)\n",
    "display(y_test.value_counts())\n",
    "\n",
    "from sklearn.metrics import confusion_matrix, ConfusionMatrixDisplay\n",
    "cm = confusion_matrix(y_test, y_pred)\n",
    "cm_display = ConfusionMatrixDisplay(confusion_matrix=cm, display_labels=clf.classes_)\n",
    "cm_display.plot()"
   ]
  },
  {
   "cell_type": "code",
   "execution_count": 25,
   "metadata": {},
   "outputs": [
    {
     "name": "stderr",
     "output_type": "stream",
     "text": [
      "/opt/anaconda3/lib/python3.11/site-packages/sklearn/model_selection/_validation.py:686: DataConversionWarning: A column-vector y was passed when a 1d array was expected. Please change the shape of y to (n_samples,), for example using ravel().\n",
      "  estimator.fit(X_train, y_train, **fit_params)\n",
      "/opt/anaconda3/lib/python3.11/site-packages/sklearn/model_selection/_validation.py:686: DataConversionWarning: A column-vector y was passed when a 1d array was expected. Please change the shape of y to (n_samples,), for example using ravel().\n",
      "  estimator.fit(X_train, y_train, **fit_params)\n",
      "/opt/anaconda3/lib/python3.11/site-packages/sklearn/model_selection/_validation.py:686: DataConversionWarning: A column-vector y was passed when a 1d array was expected. Please change the shape of y to (n_samples,), for example using ravel().\n",
      "  estimator.fit(X_train, y_train, **fit_params)\n",
      "/opt/anaconda3/lib/python3.11/site-packages/sklearn/model_selection/_validation.py:686: DataConversionWarning: A column-vector y was passed when a 1d array was expected. Please change the shape of y to (n_samples,), for example using ravel().\n",
      "  estimator.fit(X_train, y_train, **fit_params)\n",
      "/opt/anaconda3/lib/python3.11/site-packages/sklearn/model_selection/_validation.py:686: DataConversionWarning: A column-vector y was passed when a 1d array was expected. Please change the shape of y to (n_samples,), for example using ravel().\n",
      "  estimator.fit(X_train, y_train, **fit_params)\n",
      "/opt/anaconda3/lib/python3.11/site-packages/sklearn/model_selection/_validation.py:686: DataConversionWarning: A column-vector y was passed when a 1d array was expected. Please change the shape of y to (n_samples,), for example using ravel().\n",
      "  estimator.fit(X_train, y_train, **fit_params)\n",
      "/opt/anaconda3/lib/python3.11/site-packages/sklearn/model_selection/_validation.py:686: DataConversionWarning: A column-vector y was passed when a 1d array was expected. Please change the shape of y to (n_samples,), for example using ravel().\n",
      "  estimator.fit(X_train, y_train, **fit_params)\n",
      "/opt/anaconda3/lib/python3.11/site-packages/sklearn/model_selection/_validation.py:686: DataConversionWarning: A column-vector y was passed when a 1d array was expected. Please change the shape of y to (n_samples,), for example using ravel().\n",
      "  estimator.fit(X_train, y_train, **fit_params)\n",
      "/opt/anaconda3/lib/python3.11/site-packages/sklearn/model_selection/_validation.py:686: DataConversionWarning: A column-vector y was passed when a 1d array was expected. Please change the shape of y to (n_samples,), for example using ravel().\n",
      "  estimator.fit(X_train, y_train, **fit_params)\n",
      "/opt/anaconda3/lib/python3.11/site-packages/sklearn/model_selection/_validation.py:686: DataConversionWarning: A column-vector y was passed when a 1d array was expected. Please change the shape of y to (n_samples,), for example using ravel().\n",
      "  estimator.fit(X_train, y_train, **fit_params)\n"
     ]
    }
   ],
   "source": [
    "from sklearn.model_selection import cross_val_score\n",
    "recall_scores = cross_val_score(clf, X_train, y_train, cv=10, scoring='recall_macro')"
   ]
  },
  {
   "cell_type": "code",
   "execution_count": 26,
   "metadata": {},
   "outputs": [
    {
     "data": {
      "text/plain": [
       "array([0.6103428 , 0.62277475, 0.61703693, 0.62328969, 0.61836104,\n",
       "       0.62137708, 0.61659556, 0.61107842, 0.61468295, 0.62270119])"
      ]
     },
     "execution_count": 26,
     "metadata": {},
     "output_type": "execute_result"
    }
   ],
   "source": [
    "recall_scores"
   ]
  },
  {
   "cell_type": "code",
   "execution_count": 30,
   "metadata": {},
   "outputs": [
    {
     "name": "stderr",
     "output_type": "stream",
     "text": [
      "/opt/anaconda3/lib/python3.11/site-packages/sklearn/model_selection/_validation.py:686: DataConversionWarning: A column-vector y was passed when a 1d array was expected. Please change the shape of y to (n_samples,), for example using ravel().\n",
      "  estimator.fit(X_train, y_train, **fit_params)\n",
      "/opt/anaconda3/lib/python3.11/site-packages/sklearn/ensemble/_forest.py:424: FutureWarning: `max_features='auto'` has been deprecated in 1.1 and will be removed in 1.3. To keep the past behaviour, explicitly set `max_features='sqrt'` or remove this parameter as it is also the default value for RandomForestClassifiers and ExtraTreesClassifiers.\n",
      "  warn(\n",
      "/opt/anaconda3/lib/python3.11/site-packages/sklearn/model_selection/_validation.py:686: DataConversionWarning: A column-vector y was passed when a 1d array was expected. Please change the shape of y to (n_samples,), for example using ravel().\n",
      "  estimator.fit(X_train, y_train, **fit_params)\n",
      "/opt/anaconda3/lib/python3.11/site-packages/sklearn/ensemble/_forest.py:424: FutureWarning: `max_features='auto'` has been deprecated in 1.1 and will be removed in 1.3. To keep the past behaviour, explicitly set `max_features='sqrt'` or remove this parameter as it is also the default value for RandomForestClassifiers and ExtraTreesClassifiers.\n",
      "  warn(\n",
      "/opt/anaconda3/lib/python3.11/site-packages/sklearn/model_selection/_validation.py:686: DataConversionWarning: A column-vector y was passed when a 1d array was expected. Please change the shape of y to (n_samples,), for example using ravel().\n",
      "  estimator.fit(X_train, y_train, **fit_params)\n",
      "/opt/anaconda3/lib/python3.11/site-packages/sklearn/ensemble/_forest.py:424: FutureWarning: `max_features='auto'` has been deprecated in 1.1 and will be removed in 1.3. To keep the past behaviour, explicitly set `max_features='sqrt'` or remove this parameter as it is also the default value for RandomForestClassifiers and ExtraTreesClassifiers.\n",
      "  warn(\n",
      "/opt/anaconda3/lib/python3.11/site-packages/sklearn/model_selection/_validation.py:686: DataConversionWarning: A column-vector y was passed when a 1d array was expected. Please change the shape of y to (n_samples,), for example using ravel().\n",
      "  estimator.fit(X_train, y_train, **fit_params)\n",
      "/opt/anaconda3/lib/python3.11/site-packages/sklearn/ensemble/_forest.py:424: FutureWarning: `max_features='auto'` has been deprecated in 1.1 and will be removed in 1.3. To keep the past behaviour, explicitly set `max_features='sqrt'` or remove this parameter as it is also the default value for RandomForestClassifiers and ExtraTreesClassifiers.\n",
      "  warn(\n",
      "/opt/anaconda3/lib/python3.11/site-packages/sklearn/model_selection/_validation.py:686: DataConversionWarning: A column-vector y was passed when a 1d array was expected. Please change the shape of y to (n_samples,), for example using ravel().\n",
      "  estimator.fit(X_train, y_train, **fit_params)\n",
      "/opt/anaconda3/lib/python3.11/site-packages/sklearn/ensemble/_forest.py:424: FutureWarning: `max_features='auto'` has been deprecated in 1.1 and will be removed in 1.3. To keep the past behaviour, explicitly set `max_features='sqrt'` or remove this parameter as it is also the default value for RandomForestClassifiers and ExtraTreesClassifiers.\n",
      "  warn(\n",
      "/opt/anaconda3/lib/python3.11/site-packages/sklearn/model_selection/_validation.py:686: DataConversionWarning: A column-vector y was passed when a 1d array was expected. Please change the shape of y to (n_samples,), for example using ravel().\n",
      "  estimator.fit(X_train, y_train, **fit_params)\n",
      "/opt/anaconda3/lib/python3.11/site-packages/sklearn/ensemble/_forest.py:424: FutureWarning: `max_features='auto'` has been deprecated in 1.1 and will be removed in 1.3. To keep the past behaviour, explicitly set `max_features='sqrt'` or remove this parameter as it is also the default value for RandomForestClassifiers and ExtraTreesClassifiers.\n",
      "  warn(\n",
      "/opt/anaconda3/lib/python3.11/site-packages/sklearn/model_selection/_validation.py:686: DataConversionWarning: A column-vector y was passed when a 1d array was expected. Please change the shape of y to (n_samples,), for example using ravel().\n",
      "  estimator.fit(X_train, y_train, **fit_params)\n",
      "/opt/anaconda3/lib/python3.11/site-packages/sklearn/ensemble/_forest.py:424: FutureWarning: `max_features='auto'` has been deprecated in 1.1 and will be removed in 1.3. To keep the past behaviour, explicitly set `max_features='sqrt'` or remove this parameter as it is also the default value for RandomForestClassifiers and ExtraTreesClassifiers.\n",
      "  warn(\n",
      "/opt/anaconda3/lib/python3.11/site-packages/sklearn/model_selection/_validation.py:686: DataConversionWarning: A column-vector y was passed when a 1d array was expected. Please change the shape of y to (n_samples,), for example using ravel().\n",
      "  estimator.fit(X_train, y_train, **fit_params)\n",
      "/opt/anaconda3/lib/python3.11/site-packages/sklearn/ensemble/_forest.py:424: FutureWarning: `max_features='auto'` has been deprecated in 1.1 and will be removed in 1.3. To keep the past behaviour, explicitly set `max_features='sqrt'` or remove this parameter as it is also the default value for RandomForestClassifiers and ExtraTreesClassifiers.\n",
      "  warn(\n",
      "/opt/anaconda3/lib/python3.11/site-packages/sklearn/model_selection/_validation.py:686: DataConversionWarning: A column-vector y was passed when a 1d array was expected. Please change the shape of y to (n_samples,), for example using ravel().\n",
      "  estimator.fit(X_train, y_train, **fit_params)\n",
      "/opt/anaconda3/lib/python3.11/site-packages/sklearn/ensemble/_forest.py:424: FutureWarning: `max_features='auto'` has been deprecated in 1.1 and will be removed in 1.3. To keep the past behaviour, explicitly set `max_features='sqrt'` or remove this parameter as it is also the default value for RandomForestClassifiers and ExtraTreesClassifiers.\n",
      "  warn(\n",
      "/opt/anaconda3/lib/python3.11/site-packages/sklearn/model_selection/_validation.py:686: DataConversionWarning: A column-vector y was passed when a 1d array was expected. Please change the shape of y to (n_samples,), for example using ravel().\n",
      "  estimator.fit(X_train, y_train, **fit_params)\n",
      "/opt/anaconda3/lib/python3.11/site-packages/sklearn/ensemble/_forest.py:424: FutureWarning: `max_features='auto'` has been deprecated in 1.1 and will be removed in 1.3. To keep the past behaviour, explicitly set `max_features='sqrt'` or remove this parameter as it is also the default value for RandomForestClassifiers and ExtraTreesClassifiers.\n",
      "  warn(\n",
      "/opt/anaconda3/lib/python3.11/site-packages/sklearn/model_selection/_validation.py:686: DataConversionWarning: A column-vector y was passed when a 1d array was expected. Please change the shape of y to (n_samples,), for example using ravel().\n",
      "  estimator.fit(X_train, y_train, **fit_params)\n",
      "/opt/anaconda3/lib/python3.11/site-packages/sklearn/model_selection/_validation.py:686: DataConversionWarning: A column-vector y was passed when a 1d array was expected. Please change the shape of y to (n_samples,), for example using ravel().\n",
      "  estimator.fit(X_train, y_train, **fit_params)\n",
      "/opt/anaconda3/lib/python3.11/site-packages/sklearn/model_selection/_validation.py:686: DataConversionWarning: A column-vector y was passed when a 1d array was expected. Please change the shape of y to (n_samples,), for example using ravel().\n",
      "  estimator.fit(X_train, y_train, **fit_params)\n",
      "/opt/anaconda3/lib/python3.11/site-packages/sklearn/model_selection/_validation.py:686: DataConversionWarning: A column-vector y was passed when a 1d array was expected. Please change the shape of y to (n_samples,), for example using ravel().\n",
      "  estimator.fit(X_train, y_train, **fit_params)\n",
      "/opt/anaconda3/lib/python3.11/site-packages/sklearn/model_selection/_validation.py:686: DataConversionWarning: A column-vector y was passed when a 1d array was expected. Please change the shape of y to (n_samples,), for example using ravel().\n",
      "  estimator.fit(X_train, y_train, **fit_params)\n",
      "/opt/anaconda3/lib/python3.11/site-packages/sklearn/model_selection/_validation.py:686: DataConversionWarning: A column-vector y was passed when a 1d array was expected. Please change the shape of y to (n_samples,), for example using ravel().\n",
      "  estimator.fit(X_train, y_train, **fit_params)\n",
      "/opt/anaconda3/lib/python3.11/site-packages/sklearn/model_selection/_validation.py:686: DataConversionWarning: A column-vector y was passed when a 1d array was expected. Please change the shape of y to (n_samples,), for example using ravel().\n",
      "  estimator.fit(X_train, y_train, **fit_params)\n",
      "/opt/anaconda3/lib/python3.11/site-packages/sklearn/model_selection/_validation.py:686: DataConversionWarning: A column-vector y was passed when a 1d array was expected. Please change the shape of y to (n_samples,), for example using ravel().\n",
      "  estimator.fit(X_train, y_train, **fit_params)\n"
     ]
    }
   ],
   "source": [
    "from sklearn.metrics import make_scorer, recall_score\n",
    "from scipy.stats import randint\n",
    "\n",
    "# Define the Random Forest classifier\n",
    "rf_classifier = RandomForestClassifier()\n",
    "from sklearn.model_selection import RandomizedSearchCV\n",
    "\n",
    "# Define the hyperparameter grid\n",
    "param_dist = {\n",
    "    'n_estimators': randint(50, 200),  # Number of trees in the forest\n",
    "    'max_depth': randint(5, 50),        # Maximum depth of the trees\n",
    "    'min_samples_split': randint(2, 20), # Minimum number of samples required to split a node\n",
    "    'min_samples_leaf': randint(1, 20),  # Minimum number of samples required at each leaf node\n",
    "    'max_features': ['auto', 'sqrt'],   # Number of features to consider at each split\n",
    "    'bootstrap': [True, False]          # Whether bootstrap samples are used when building trees\n",
    "}\n",
    "\n",
    "# Define a custom scorer for recall\n",
    "scorer = make_scorer(recall_score)\n",
    "\n",
    "# Define RandomizedSearchCV with recall as the scoring metric\n",
    "random_search_recall = RandomizedSearchCV(estimator=rf_classifier, \n",
    "                                          param_distributions=param_dist, \n",
    "                                          n_iter=100,\n",
    "                                          cv=5,\n",
    "                                          scoring=scorer,  # Use recall as the scoring metric\n",
    "                                          random_state=42)\n",
    "\n",
    "# Perform the Randomized Search\n",
    "random_search_recall.fit(X_var_train, y_train)\n",
    "\n",
    "# Get the best parameters\n",
    "best_params_recall = random_search_recall.best_params_\n",
    "print(\"Best parameters for recall optimization:\", best_params_recall)\n",
    "\n",
    "# Get the best model\n",
    "best_model_recall = random_search_recall.best_estimator_\n",
    "\n",
    "# Evaluate the best model on test data\n",
    "test_recall = recall_score(y_test, best_model_recall.predict(X_var_test))\n",
    "print(\"Test Recall:\", test_recall)"
   ]
  },
  {
   "cell_type": "code",
   "execution_count": null,
   "metadata": {},
   "outputs": [],
   "source": [
    "# Concatenate the full dataset\n",
    "X_full = pd.concat([X_train, X_test], axis=0)\n",
    "y_full = pd.concat([y_train, y_test], axis=0)\n",
    "\n",
    "# Train the final model using the best parameters found\n",
    "tagert_b_model = RandomForestClassifier(**best_params_recall)  # Using the best parameters found\n",
    "\n",
    "# Train the final model on the full dataset\n",
    "tagert_b_model.fit(X_full, y_full)"
   ]
  },
  {
   "cell_type": "code",
   "execution_count": null,
   "metadata": {},
   "outputs": [],
   "source": [
    "import pickle\n",
    "\n",
    "# Save the trained model to a file\n",
    "with open('tagert_b_model.pkl', 'wb') as file:\n",
    "    pickle.dump(tagert_b_model, file)"
   ]
  },
  {
   "cell_type": "code",
   "execution_count": null,
   "metadata": {},
   "outputs": [],
   "source": [
    "# Load the saved model from the file\n",
    "with open('final_model.pkl', 'rb') as file:\n",
    "    loaded_model = pickle.load(file)"
   ]
  },
  {
   "cell_type": "markdown",
   "metadata": {},
   "source": []
  }
 ],
 "metadata": {
  "kernelspec": {
   "display_name": "base",
   "language": "python",
   "name": "python3"
  },
  "language_info": {
   "codemirror_mode": {
    "name": "ipython",
    "version": 3
   },
   "file_extension": ".py",
   "mimetype": "text/x-python",
   "name": "python",
   "nbconvert_exporter": "python",
   "pygments_lexer": "ipython3",
   "version": "3.11.7"
  }
 },
 "nbformat": 4,
 "nbformat_minor": 2
}
